{
 "metadata": {
  "language_info": {
   "codemirror_mode": {
    "name": "ipython",
    "version": 3
   },
   "file_extension": ".py",
   "mimetype": "text/x-python",
   "name": "python",
   "nbconvert_exporter": "python",
   "pygments_lexer": "ipython3",
   "version": "3.8.3-final"
  },
  "orig_nbformat": 2,
  "kernelspec": {
   "name": "Python 3.8.3 64-bit (conda)",
   "display_name": "Python 3.8.3 64-bit (conda)",
   "metadata": {
    "interpreter": {
     "hash": "102aeed6ed50bc8e349f5a6f526e1d5d5718f66576a3ae6554bfb0366557253e"
    }
   }
  }
 },
 "nbformat": 4,
 "nbformat_minor": 2,
 "cells": [
  {
   "cell_type": "code",
   "execution_count": 8,
   "metadata": {},
   "outputs": [
    {
     "output_type": "stream",
     "name": "stdout",
     "text": [
      "1 3 5 7 9 "
     ]
    }
   ],
   "source": [
    "# m04u01\n",
    "\n",
    "for i in range(1,11,2):\n",
    "    print(i, end=\" \")"
   ]
  },
  {
   "cell_type": "code",
   "execution_count": 32,
   "metadata": {},
   "outputs": [
    {
     "output_type": "stream",
     "name": "stdout",
     "text": [
      "1030.0\n1060.9\n1092.727\n1125.50881\n1159.2740743000002\n1194.0522965290002\n1229.8738654248702\n1266.7700813876163\n1304.7731838292448\n1343.916379344122\n1384.2338707244458\n1425.7608868461791\n1468.5337134515646\n1512.5897248551116\n1557.967416600765\n"
     ]
    }
   ],
   "source": [
    "# m04u02\n",
    "\n",
    "#j = 10000\n",
    "\n",
    "#for i in range(15):\n",
    "#    i = 1\n",
    "#    j *= 1.03\n",
    "#    summa = i*j\n",
    "#    print(summa)\n",
    "\n",
    "\n",
    "amount = int(input(\"Money\"))\n",
    "year = int(input(\"How many years\"))\n",
    "ränta = float(input(\"Förändringsfaktor i Ränta\"))\n",
    "\n",
    "for i in range(year):\n",
    "    i = 1\n",
    "    amount *= ränta\n",
    "    summa = i*amount\n",
    "    print(summa)\n"
   ]
  },
  {
   "cell_type": "code",
   "execution_count": 2,
   "metadata": {},
   "outputs": [
    {
     "output_type": "stream",
     "name": "stdout",
     "text": [
      "1\t2\t3\t\n2\t4\t6\t\n3\t6\t9\t\n"
     ]
    }
   ],
   "source": [
    "# m04u03a and b\n",
    "\n",
    "antal=int(input(\"skriv in ett positivt tal mellan 1 och 15\"))\n",
    "for rad in range(1,antal+1):\n",
    "    for colum in range(1,antal+1):\n",
    "        print(rad*colum, end=\"\\t\")\n",
    "    print()\n",
    "    "
   ]
  },
  {
   "cell_type": "code",
   "execution_count": 22,
   "metadata": {},
   "outputs": [
    {
     "output_type": "stream",
     "name": "stdout",
     "text": [
      "100\n81\n64\n49\n36\n25\n16\n9\n4\n1\nHere it ends\n"
     ]
    }
   ],
   "source": [
    "# m04u04\n",
    "\n",
    "tal = 11\n",
    "\n",
    "while tal > 1:\n",
    "    tal -= 1\n",
    "    summa = tal*tal\n",
    "    print(summa)\n",
    "    \n",
    "\n",
    "else:\n",
    "    print(\"Here it ends\")\n"
   ]
  },
  {
   "cell_type": "code",
   "execution_count": 29,
   "metadata": {},
   "outputs": [
    {
     "output_type": "stream",
     "name": "stdout",
     "text": [
      "1638400\n14 månader\n"
     ]
    }
   ],
   "source": [
    "# m04u05        \n",
    "\n",
    "# We want to double the rats ever month untill it's 1000000 of then see how many months it is.\n",
    "\n",
    "månader = 0\n",
    "råttor = 100\n",
    "\n",
    "while råttor < 1000000:\n",
    "    råttor*=2\n",
    "    månader+=1\n",
    "print(råttor)\n",
    "print(månader, \"månader\")"
   ]
  },
  {
   "cell_type": "code",
   "execution_count": 33,
   "metadata": {},
   "outputs": [],
   "source": [
    "#m04u06\n",
    "\n"
   ]
  },
  {
   "cell_type": "code",
   "execution_count": 34,
   "metadata": {},
   "outputs": [],
   "source": [
    "# m04u07"
   ]
  },
  {
   "cell_type": "code",
   "execution_count": null,
   "metadata": {},
   "outputs": [],
   "source": [
    "# m04u08\n",
    "\n"
   ]
  }
 ]
}
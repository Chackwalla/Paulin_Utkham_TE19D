{
 "metadata": {
  "language_info": {
   "codemirror_mode": {
    "name": "ipython",
    "version": 3
   },
   "file_extension": ".py",
   "mimetype": "text/x-python",
   "name": "python",
   "nbconvert_exporter": "python",
   "pygments_lexer": "ipython3",
   "version": "3.8.3-final"
  },
  "orig_nbformat": 2,
  "kernelspec": {
   "name": "Python 3.8.3 64-bit ('base': conda)",
   "display_name": "Python 3.8.3 64-bit ('base': conda)",
   "metadata": {
    "interpreter": {
     "hash": "102aeed6ed50bc8e349f5a6f526e1d5d5718f66576a3ae6554bfb0366557253e"
    }
   }
  }
 },
 "nbformat": 4,
 "nbformat_minor": 2,
 "cells": [
  {
   "cell_type": "code",
   "execution_count": 8,
   "metadata": {},
   "outputs": [
    {
     "output_type": "stream",
     "name": "stdout",
     "text": [
      "1 3 5 7 9 "
     ]
    }
   ],
   "source": [
    "# m04u01\n",
    "\n",
    "for i in range(1,11,2):\n",
    "    print(i, end=\" \")"
   ]
  },
  {
   "cell_type": "code",
   "execution_count": 19,
   "metadata": {},
   "outputs": [
    {
     "output_type": "stream",
     "name": "stdout",
     "text": [
      "1030.0\n1060.9\n1092.727\n1125.50881\n1159.2740743000002\n1194.0522965290002\n1229.8738654248702\n1266.7700813876163\n1304.7731838292448\n1343.916379344122\n1384.2338707244458\n1425.7608868461791\n1468.5337134515646\n1512.5897248551116\n1557.967416600765\n"
     ]
    }
   ],
   "source": [
    "# m04u02\n",
    "\n",
    "#j = 10000\n",
    "\n",
    "#for i in range(15):\n",
    "#    i = 1\n",
    "#    j *= 1.03\n",
    "#    summa = i*j\n",
    "#    print(summa)\n",
    "\n",
    "\n",
    "amount = float(input(\"Money\"))\n",
    "year = int(input(\"How many years\"))\n",
    "ränta = float(input(\"Förändringsfaktor i Ränta\"))\n",
    "\n",
    "for i in range(year):\n",
    "    i = 1\n",
    "    amount *= ränta\n",
    "    summa = i*amount\n",
    "    print(summa)\n"
   ]
  },
  {
   "cell_type": "code",
   "execution_count": 20,
   "metadata": {},
   "outputs": [],
   "source": [
    "# m04u03\n",
    "\n",
    "antal=int(input(\"skriv in ett positivt tal mellan 1 och 15\"))\n",
    "for rad in range(1,antal+1):\n",
    "    for colum in range(1,antal+1):\n",
    "        print(rad*colum, end=\"\\t\")\n",
    "    print()\n",
    "    "
   ]
  },
  {
   "cell_type": "code",
   "execution_count": null,
   "metadata": {},
   "outputs": [],
   "source": [
    "# m04u04"
   ]
  }
 ]
}
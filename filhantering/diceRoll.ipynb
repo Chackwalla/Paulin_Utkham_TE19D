{
 "metadata": {
  "language_info": {
   "codemirror_mode": {
    "name": "ipython",
    "version": 3
   },
   "file_extension": ".py",
   "mimetype": "text/x-python",
   "name": "python",
   "nbconvert_exporter": "python",
   "pygments_lexer": "ipython3",
   "version": "3.8.5-final"
  },
  "orig_nbformat": 2,
  "kernelspec": {
   "name": "python3",
   "display_name": "Python 3.8.5 64-bit",
   "metadata": {
    "interpreter": {
     "hash": "2db524e06e9f5f4ffedc911c917cb75e12dbc923643829bf417064a77eb14d37"
    }
   }
  }
 },
 "nbformat": 4,
 "nbformat_minor": 2,
 "cells": [
  {
   "cell_type": "code",
   "execution_count": 30,
   "metadata": {},
   "outputs": [
    {
     "output_type": "stream",
     "name": "stdout",
     "text": [
      "1 6 3 6 3 3 4 5 2 2 "
     ]
    }
   ],
   "source": [
    "# upg 1a\n",
    "\n",
    "import random\n",
    "\n",
    "with open(\"diceRoll.txt\", \"w\") as dR2:\n",
    "    for i in range(0,10):\n",
    "        kast = str(random.randint(1,6))\n",
    "        print(kast, end=\" \")\n",
    "        dR2.write(f\"{kast} \")"
   ]
  },
  {
   "cell_type": "code",
   "execution_count": 43,
   "metadata": {},
   "outputs": [
    {
     "output_type": "stream",
     "name": "stdout",
     "text": [
      "['1', '2', '3', '4', '4', '4', '4', '4', '5', '6']\n"
     ]
    }
   ],
   "source": [
    "# upg 1b\n",
    "\n",
    "import random\n",
    "\n",
    "kastLista = []\n",
    "sorterad = []\n",
    "\n",
    "with open(\"diceRoll.txt\", \"w\") as dR2:\n",
    "    for i in range(0,10):\n",
    "        kast = str(random.randint(1,6))\n",
    "        kastLista.append(kast)\n",
    "        sorterad = sorted(kastLista)\n",
    "        dR2.write(f\"{kast} \")\n",
    "    dR2.write(f\"\\n Kasten Sorterat: {sorterad} \")\n",
    "    print(sorterad)"
   ]
  },
  {
   "cell_type": "code",
   "execution_count": null,
   "metadata": {},
   "outputs": [],
   "source": []
  }
 ]
}
{
 "metadata": {
  "language_info": {
   "codemirror_mode": {
    "name": "ipython",
    "version": 3
   },
   "file_extension": ".py",
   "mimetype": "text/x-python",
   "name": "python",
   "nbconvert_exporter": "python",
   "pygments_lexer": "ipython3",
   "version": "3.8.3-final"
  },
  "orig_nbformat": 2,
  "kernelspec": {
   "name": "python3",
   "display_name": "Python 3"
  }
 },
 "nbformat": 4,
 "nbformat_minor": 2,
 "cells": [
  {
   "source": [
    "# Funktioner\n",
    "\n",
    "* inparameter\n",
    "* anropa Funktioner\n",
    "* return-sats\n",
    "* lokala variabler"
   ],
   "cell_type": "markdown",
   "metadata": {}
  },
  {
   "cell_type": "code",
   "execution_count": 3,
   "metadata": {},
   "outputs": [
    {
     "output_type": "stream",
     "name": "stdout",
     "text": [
      "Ens medelvikt är 61.0 kg\n"
     ]
    }
   ],
   "source": [
    "# Definerat en funktion som returnerar medelvärdet av två tal\n",
    "\n",
    "def medelvärde(tal1,tal2): # medel är en lokal variable - syns endast i scopet av functionen\n",
    "    medel = (tal1+tal2)/2 \n",
    "    return medel\n",
    "\n",
    "vikt_medel = medelvärde(60,62)\n",
    "\n",
    "print(f\"Ens medelvikt är {vikt_medel} kg\")"
   ]
  },
  {
   "cell_type": "code",
   "execution_count": null,
   "metadata": {},
   "outputs": [],
   "source": []
  }
 ]
}
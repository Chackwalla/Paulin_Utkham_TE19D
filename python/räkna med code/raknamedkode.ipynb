{
 "metadata": {
  "language_info": {
   "codemirror_mode": {
    "name": "ipython",
    "version": 3
   },
   "file_extension": ".py",
   "mimetype": "text/x-python",
   "name": "python",
   "nbconvert_exporter": "python",
   "pygments_lexer": "ipython3",
   "version": "3.8.3-final"
  },
  "orig_nbformat": 2,
  "kernelspec": {
   "name": "python_defaultSpec_1599643388488",
   "display_name": "Python 3.8.3 64-bit ('base': conda)"
  }
 },
 "nbformat": 4,
 "nbformat_minor": 2,
 "cells": [
  {
   "cell_type": "markdown",
   "metadata": {},
   "source": [
    "Nivå 1"
   ]
  },
  {
   "cell_type": "code",
   "execution_count": 2,
   "metadata": {
    "tags": []
   },
   "outputs": [
    {
     "output_type": "stream",
     "name": "stdout",
     "text": "5\n"
    }
   ],
   "source": [
    "#Upg 1 a\n",
    "\n",
    "print(12-7)"
   ]
  },
  {
   "cell_type": "code",
   "execution_count": 3,
   "metadata": {
    "tags": []
   },
   "outputs": [
    {
     "output_type": "stream",
     "name": "stdout",
     "text": "17.0\n"
    }
   ],
   "source": [
    "#Upg 1 b\n",
    "\n",
    "print(24/3+9 )"
   ]
  },
  {
   "cell_type": "code",
   "execution_count": 4,
   "metadata": {
    "tags": []
   },
   "outputs": [
    {
     "output_type": "stream",
     "name": "stdout",
     "text": "127\n"
    }
   ],
   "source": [
    "#Upg 1 c \n",
    "\n",
    "print(3*43-2)\n"
   ]
  },
  {
   "cell_type": "code",
   "execution_count": 5,
   "metadata": {
    "tags": []
   },
   "outputs": [
    {
     "output_type": "stream",
     "name": "stdout",
     "text": "Hej! hur mår du?\n"
    }
   ],
   "source": [
    "#Upg 2\n",
    "\n",
    "print(\"Hej! hur mår du?\")\n"
   ]
  },
  {
   "cell_type": "code",
   "execution_count": 6,
   "metadata": {
    "tags": []
   },
   "outputs": [
    {
     "output_type": "stream",
     "name": "stdout",
     "text": "30\n"
    }
   ],
   "source": [
    "#Upg 3 a\n",
    "\n",
    "läsk = 15\n",
    "\n",
    "burgare = 29\n",
    "\n",
    "fries = 12\n",
    "\n",
    "morötter = 12\n",
    "\n",
    "print(f\"{2*läsk}\")"
   ]
  },
  {
   "cell_type": "code",
   "execution_count": 9,
   "metadata": {
    "tags": []
   },
   "outputs": [
    {
     "output_type": "stream",
     "name": "stdout",
     "text": "59\n"
    }
   ],
   "source": [
    "#Upg 3 b\n",
    "\n",
    "läsk = 15\n",
    "\n",
    "burgare = 29\n",
    "\n",
    "fries = 12\n",
    "\n",
    "morötter = 12\n",
    "\n",
    "print(f\"{2*läsk+burgare}\")\n"
   ]
  },
  {
   "cell_type": "code",
   "execution_count": 10,
   "metadata": {
    "tags": []
   },
   "outputs": [
    {
     "output_type": "stream",
     "name": "stdout",
     "text": "168\n"
    }
   ],
   "source": [
    "#Upg 3 c\n",
    "\n",
    "läsk = 15\n",
    "\n",
    "burgare = 29\n",
    "\n",
    "fries = 12\n",
    "\n",
    "morötter = 12\n",
    "\n",
    "print(f\"{3*läsk+3*burgare+3*fries}\")\n"
   ]
  },
  {
   "cell_type": "code",
   "execution_count": 11,
   "metadata": {
    "tags": []
   },
   "outputs": [
    {
     "output_type": "stream",
     "name": "stdout",
     "text": "9863\n"
    }
   ],
   "source": [
    "#Upg 4\n",
    "\n",
    "print(219*45+8)\n"
   ]
  },
  {
   "cell_type": "code",
   "execution_count": 13,
   "metadata": {
    "tags": []
   },
   "outputs": [
    {
     "output_type": "stream",
     "name": "stdout",
     "text": "Om du kör med hastigheten 70km/h i 1,5 timmar, så hinner du 105.0 km.\n"
    }
   ],
   "source": [
    "#Upg 5:\n",
    "\n",
    "print(\"Om du kör med hastigheten 70km/h i 1,5 timmar, så hinner du\", 70*1.5, \"km.\")"
   ]
  },
  {
   "cell_type": "markdown",
   "metadata": {},
   "source": [
    "Nivå 2"
   ]
  },
  {
   "cell_type": "code",
   "execution_count": null,
   "metadata": {},
   "outputs": [],
   "source": [
    "#Upg 6\n",
    "\n"
   ]
  }
 ]
}
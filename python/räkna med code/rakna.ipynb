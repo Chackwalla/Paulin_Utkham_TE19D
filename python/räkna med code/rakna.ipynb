{
 "metadata": {
  "language_info": {
   "codemirror_mode": {
    "name": "ipython",
    "version": 3
   },
   "file_extension": ".py",
   "mimetype": "text/x-python",
   "name": "python",
   "nbconvert_exporter": "python",
   "pygments_lexer": "ipython3",
   "version": "3.8.5-final"
  },
  "orig_nbformat": 2,
  "kernelspec": {
   "name": "python_defaultSpec_1599465380383",
   "display_name": "Python 3.8.5 64-bit"
  }
 },
 "nbformat": 4,
 "nbformat_minor": 2,
 "cells": [
  {
   "cell_type": "code",
   "execution_count": 6,
   "metadata": {
    "tags": []
   },
   "outputs": [
    {
     "output_type": "stream",
     "name": "stdout",
     "text": "300.0 Kelvin is 26.850000000000023 Celcius\n"
    }
   ],
   "source": [
    "K = float(input(\"Give me Kelvin now: \"))\n",
    "C = K-273.15\n",
    "\n",
    "print(f\"{K} Kelvin is {C} Celcius\")"
   ]
  },
  {
   "cell_type": "code",
   "execution_count": 7,
   "metadata": {
    "tags": []
   },
   "outputs": [
    {
     "output_type": "stream",
     "name": "stdout",
     "text": "30.0 Celcious is 26.850000000000023 Kelvin\n"
    }
   ],
   "source": [
    "C = float(input(\"Give me Celcius now!: \"))\n",
    "K = K-273.15\n",
    "\n",
    "print(f\"{C} Celcious is {K} Kelvin\")"
   ]
  },
  {
   "cell_type": "code",
   "execution_count": 8,
   "metadata": {
    "tags": []
   },
   "outputs": [
    {
     "output_type": "stream",
     "name": "stdout",
     "text": "This is how much it'll all cost: 150.0\n"
    }
   ],
   "source": [
    "antalResor = float(input(\"Give me your amount of need for speed: \"))\n",
    "price = antalResor*30\n",
    "\n",
    "print(f\"This is how much it'll all cost: {price}\")\n"
   ]
  },
  {
   "cell_type": "code",
   "execution_count": 17,
   "metadata": {
    "tags": []
   },
   "outputs": [
    {
     "output_type": "stream",
     "name": "stdout",
     "text": "This is how much it'll all cost: 60.0\n"
    }
   ],
   "source": [
    "antalResor = float(input(\"Give me your amount of need for speed: \"))\n",
    "price = antalResor*30\n",
    "\n",
    "if price < 774:\n",
    "    print(f\"This is how much it'll all cost: {price}\")\n",
    "\n",
    "if price > 775: \n",
    "    print(f\"This is how much it'll all cost: {price}, I recomend you buying the monthly pass\")"
   ]
  },
  {
   "cell_type": "code",
   "execution_count": null,
   "metadata": {},
   "outputs": [],
   "source": []
  }
 ]
}
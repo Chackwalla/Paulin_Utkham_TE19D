{
 "metadata": {
  "language_info": {
   "codemirror_mode": {
    "name": "ipython",
    "version": 3
   },
   "file_extension": ".py",
   "mimetype": "text/x-python",
   "name": "python",
   "nbconvert_exporter": "python",
   "pygments_lexer": "ipython3",
   "version": "3.8.5-final"
  },
  "orig_nbformat": 2,
  "kernelspec": {
   "name": "python_defaultSpec_1600264114589",
   "display_name": "Python 3.8.5 64-bit"
  }
 },
 "nbformat": 4,
 "nbformat_minor": 2,
 "cells": [
  {
   "cell_type": "code",
   "execution_count": 2,
   "metadata": {
    "tags": []
   },
   "outputs": [
    {
     "output_type": "stream",
     "name": "stdout",
     "text": "Talet är udda\n"
    }
   ],
   "source": [
    "tal = int(input(\"Ange tal\")) \n",
    "\n",
    "if tal%2==0:\n",
    "    print(\"talest är jämnt\")\n",
    "\n",
    "else:\n",
    "    print(\"Talet är udda\")"
   ]
  },
  {
   "source": [
    "If-Satser i Programmeringsovningshafte.pdf"
   ],
   "cell_type": "markdown",
   "metadata": {}
  },
  {
   "cell_type": "code",
   "execution_count": 7,
   "metadata": {
    "tags": []
   },
   "outputs": [
    {
     "output_type": "stream",
     "name": "stdout",
     "text": "Your number is negative\n"
    }
   ],
   "source": [
    "# 1.\n",
    "\n",
    "tal = int(input(\"Give me a number:\"))\n",
    "\n",
    "#om talet är negativt: \n",
    "if tal < 0:\n",
    "    print(\"Your number is negative\")\n",
    "\n",
    "#om talet är 0\n",
    "elif tal == 0:\n",
    "    print(\"Your number is 0, how boring\")\n",
    "\n",
    "#om talet är psetivet\n",
    "else:\n",
    "    print(\"Your number seams to be psitive, das pwetty cool\")"
   ]
  },
  {
   "cell_type": "code",
   "execution_count": 5,
   "metadata": {
    "tags": []
   },
   "outputs": [
    {
     "output_type": "stream",
     "name": "stdout",
     "text": "delbart med 5\n"
    }
   ],
   "source": [
    "# 2.\n",
    "\n",
    "tal = int(input(\"Give me your number\"))\n",
    "\n",
    "# jämt\n",
    "if tal%2 == 0:\n",
    "    print(\"Jämnt\")\n",
    "\n",
    "# delbart med 5\n",
    "elif tal%5 == 0:\n",
    "    print(\"delbart med 5\")\n",
    "    \n",
    "# udda\n",
    "else:\n",
    "    print(\"Udda\")"
   ]
  },
  {
   "cell_type": "code",
   "execution_count": 6,
   "metadata": {
    "tags": []
   },
   "outputs": [
    {
     "output_type": "stream",
     "name": "stdout",
     "text": "98 är störst\n"
    }
   ],
   "source": [
    "#3. låt användaren mata in 4 tal och koden ska visa det största talet\n",
    "\n",
    "Tal1 = int(input(\"Ange ett tal\"))\n",
    "Tal2 = int(input(\"Ange ett tal\"))\n",
    "Tal3 = int(input(\"Ange ett tal\"))\n",
    "Tal4 = int(input(\"Ange ett tal\"))\n",
    "\n",
    "if Tal1 > Tal2 and Tal1 > Tal3 and Tal1 > Tal4:\n",
    "    print(f\"{Tal1} är störst\")\n",
    "if Tal2 > Tal1 and Tal2 > Tal3 and Tal2 > Tal4:\n",
    "    print(f\"{Tal2} är störst\")\n",
    "if Tal3 > Tal1 and Tal3 > Tal2 and Tal3 > Tal4:\n",
    "    print(f\"{Tal3} är störst\")\n",
    "if Tal4 > Tal1 and Tal4 > Tal2 and Tal4 > Tal3:\n",
    "    print(f\"{Tal4} är störst\")\n",
    "\n",
    "#There is a simpler way but currently out of my knowledge. I shall make sure to search for the simpler version later."
   ]
  },
  {
   "cell_type": "code",
   "execution_count": 15,
   "metadata": {
    "tags": []
   },
   "outputs": [
    {
     "output_type": "stream",
     "name": "stdout",
     "text": "OwO det är en trubbig vinkel\n"
    }
   ],
   "source": [
    "# 4. \n",
    "\n",
    "grad = int(input(\"Ange vinkelns grad:\"))\n",
    "\n",
    "#rät\n",
    "if grad == 90:\n",
    "    print(\"Det är en rät vinkel!\")\n",
    "\n",
    "#spetsig\n",
    "elif grad < 90:\n",
    "    print(\"Owawee, det är en spetisg vinkel!\")\n",
    "\n",
    "#rak\n",
    "elif grad == 180:\n",
    "    print(\"Oh ho?! En raaak vinkel\")\n",
    "\n",
    "#trubbig\n",
    "elif 180 > grad > 90:\n",
    "    print(\"OwO det är en trubbig vinkel\")\n",
    "\n",
    "#konvex\n",
    "elif 360 > grad > 180:\n",
    "    print(\"Det är en konvex vinkel, hewwo.\")\n",
    "\n",
    "#hel\n",
    "elif grad == 360:\n",
    "    print(\"DET ÄR EN HEL CIRKEL!! HURRAAAYYY!\")\n",
    "\n",
    "#mer än en hel\n",
    "elif grad > 360:\n",
    "    print(\"Det är mer än en 360 vinkel!\")"
   ]
  },
  {
   "cell_type": "code",
   "execution_count": null,
   "metadata": {},
   "outputs": [],
   "source": []
  }
 ]
}
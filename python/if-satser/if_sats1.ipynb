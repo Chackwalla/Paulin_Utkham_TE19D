{
 "metadata": {
  "language_info": {
   "codemirror_mode": {
    "name": "ipython",
    "version": 3
   },
   "file_extension": ".py",
   "mimetype": "text/x-python",
   "name": "python",
   "nbconvert_exporter": "python",
   "pygments_lexer": "ipython3",
   "version": "3.8.5-final"
  },
  "orig_nbformat": 2,
  "kernelspec": {
   "name": "python_defaultSpec_1600071169786",
   "display_name": "Python 3.8.5 64-bit"
  }
 },
 "nbformat": 4,
 "nbformat_minor": 2,
 "cells": [
  {
   "cell_type": "code",
   "execution_count": 2,
   "metadata": {
    "tags": []
   },
   "outputs": [
    {
     "output_type": "stream",
     "name": "stdout",
     "text": "Talet är udda\n"
    }
   ],
   "source": [
    "tal = int(input(\"Ange tal\")) \n",
    "\n",
    "if tal%2==0:\n",
    "    print(\"talest är jämnt\")\n",
    "\n",
    "else:\n",
    "    print(\"Talet är udda\")"
   ]
  },
  {
   "source": [
    "If-Satser i Programmeringsovningshafte.pdf"
   ],
   "cell_type": "markdown",
   "metadata": {}
  },
  {
   "cell_type": "code",
   "execution_count": 7,
   "metadata": {
    "tags": []
   },
   "outputs": [
    {
     "output_type": "stream",
     "name": "stdout",
     "text": "Your number is negative\n"
    }
   ],
   "source": [
    "# 1.\n",
    "\n",
    "tal = int(input(\"Give me a number:\"))\n",
    "\n",
    "#om talet är negativt: \n",
    "if tal < 0:\n",
    "    print(\"Your number is negative\")\n",
    "\n",
    "#om talet är 0\n",
    "elif tal == 0:\n",
    "    print(\"Your number is 0, how boring\")\n",
    "\n",
    "#om talet är psetivet\n",
    "else:\n",
    "    print(\"Your number seams to be psitive, das pwetty cool\")"
   ]
  },
  {
   "cell_type": "code",
   "execution_count": null,
   "metadata": {},
   "outputs": [],
   "source": [
    "# 2.\n",
    "\n",
    "tal = int(input(\"Give me your number\"))\n",
    "\n",
    "# \n",
    "\n",
    "# \n",
    "\n",
    "# \n",
    "\n",
    "#  "
   ]
  }
 ]
}
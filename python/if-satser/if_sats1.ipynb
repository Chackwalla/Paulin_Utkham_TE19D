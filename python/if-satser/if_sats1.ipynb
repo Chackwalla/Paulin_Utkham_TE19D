{
 "metadata": {
  "language_info": {
   "codemirror_mode": {
    "name": "ipython",
    "version": 3
   },
   "file_extension": ".py",
   "mimetype": "text/x-python",
   "name": "python",
   "nbconvert_exporter": "python",
   "pygments_lexer": "ipython3",
   "version": "3.8.5-final"
  },
  "orig_nbformat": 2,
  "kernelspec": {
   "name": "python_defaultSpec_1600264114589",
   "display_name": "Python 3.8.5 64-bit"
  }
 },
 "nbformat": 4,
 "nbformat_minor": 2,
 "cells": [
  {
   "cell_type": "code",
   "execution_count": 2,
   "metadata": {
    "tags": []
   },
   "outputs": [
    {
     "output_type": "stream",
     "name": "stdout",
     "text": "Talet är udda\n"
    }
   ],
   "source": [
    "tal = int(input(\"Ange tal\")) \n",
    "\n",
    "if tal%2==0:\n",
    "    print(\"talest är jämnt\")\n",
    "\n",
    "else:\n",
    "    print(\"Talet är udda\")"
   ]
  },
  {
   "source": [
    "If-Satser i Programmeringsovningshafte.pdf"
   ],
   "cell_type": "markdown",
   "metadata": {}
  },
  {
   "cell_type": "code",
   "execution_count": 7,
   "metadata": {
    "tags": []
   },
   "outputs": [
    {
     "output_type": "stream",
     "name": "stdout",
     "text": "Your number is negative\n"
    }
   ],
   "source": [
    "# 1.\n",
    "\n",
    "tal = int(input(\"Give me a number:\"))\n",
    "\n",
    "#om talet är negativt: \n",
    "if tal < 0:\n",
    "    print(\"Your number is negative\")\n",
    "\n",
    "#om talet är 0\n",
    "elif tal == 0:\n",
    "    print(\"Your number is 0, how boring\")\n",
    "\n",
    "#om talet är psetivet\n",
    "else:\n",
    "    print(\"Your number seams to be psitive, das pwetty cool\")"
   ]
  },
  {
   "cell_type": "code",
   "execution_count": 5,
   "metadata": {
    "tags": []
   },
   "outputs": [
    {
     "output_type": "stream",
     "name": "stdout",
     "text": "delbart med 5\n"
    }
   ],
   "source": [
    "# 2.\n",
    "\n",
    "tal = int(input(\"Give me your number\"))\n",
    "\n",
    "# jämt\n",
    "if tal%2 == 0:\n",
    "    print(\"Jämnt\")\n",
    "\n",
    "# delbart med 5\n",
    "elif tal%5 == 0:\n",
    "    print(\"delbart med 5\")\n",
    "    \n",
    "# udda\n",
    "else:\n",
    "    print(\"Udda\")"
   ]
  },
  {
   "cell_type": "code",
   "execution_count": 19,
   "metadata": {
    "tags": []
   },
   "outputs": [
    {
     "output_type": "stream",
     "name": "stdout",
     "text": "768 är störst\n"
    }
   ],
   "source": [
    "#3. låt användaren mata in 4 tal och koden ska visa det största talet\n",
    "\n",
    "tal1 = int(input(\"Ange ett tal 1\"))\n",
    "tal2 = int(input(\"Ange ett tal 2\"))\n",
    "tal3 = int(input(\"Ange ett tal 3\"))\n",
    "tal4 = int(input(\"Ange ett tal 4\"))\n",
    "\n",
    "if tal1 > tal2:\n",
    "    tal2 = tal1\n",
    "\n",
    "if tal3 > tal4:\n",
    "    tal4 = tal3\n",
    "\n",
    "if tal2 >= tal4:\n",
    "    print(f\"{tal2} är störst\")\n",
    "else:\n",
    "    print(f\"{tal4} är störst\")\n"
   ]
  },
  {
   "cell_type": "code",
   "execution_count": 15,
   "metadata": {
    "tags": []
   },
   "outputs": [
    {
     "output_type": "stream",
     "name": "stdout",
     "text": "OwO det är en trubbig vinkel\n"
    }
   ],
   "source": [
    "# 4. \n",
    "\n",
    "grad = int(input(\"Ange vinkelns grad:\"))\n",
    "\n",
    "#rät\n",
    "if grad == 90:\n",
    "    print(\"Det är en rät vinkel!\")\n",
    "\n",
    "#spetsig\n",
    "elif grad < 90:\n",
    "    print(\"Owawee, det är en spetsig vinkel!\")\n",
    "\n",
    "#rak\n",
    "elif grad == 180:\n",
    "    print(\"Oh ho?! En raaak vinkel\")\n",
    "\n",
    "#trubbig\n",
    "elif 180 > grad > 90:\n",
    "    print(\"OwO det är en trubbig vinkel\")\n",
    "\n",
    "#konvex\n",
    "elif 360 > grad > 180:\n",
    "    print(\"Det är en konvex vinkel, hewwo.\")\n",
    "\n",
    "#hel\n",
    "elif grad == 360:\n",
    "    print(\"DET ÄR EN HEL CIRKEL!! HURRAAAYYY!\")\n",
    "\n",
    "#mer än en hel\n",
    "else:\n",
    "    print(\"Det är mer än en 360 vinkel!\")"
   ]
  },
  {
   "cell_type": "code",
   "execution_count": 24,
   "metadata": {
    "tags": []
   },
   "outputs": [
    {
     "output_type": "stream",
     "name": "stdout",
     "text": "Omkretsen på din cirkel är 146.39821765728436 & Area på din cirkel är 1705.5392357073626\n"
    }
   ],
   "source": [
    "# 5.\n",
    "import math\n",
    "\n",
    "radie = float(input(\"Ange radiens längd\"))\n",
    "\n",
    "if radie < 0:\n",
    "    print(\"Lausbube, du kan inte använda ett negativt tal!\")\n",
    "else:\n",
    "    area = radie*radie*math.pi\n",
    "    omkrets = math.pi*2*radie\n",
    "    \n",
    "    print(f\"Omkretsen på din cirkel är {omkrets} & Area på din cirkel är {area}\")\n"
   ]
  },
  {
   "cell_type": "code",
   "execution_count": null,
   "metadata": {},
   "outputs": [],
   "source": []
  }
 ]
}
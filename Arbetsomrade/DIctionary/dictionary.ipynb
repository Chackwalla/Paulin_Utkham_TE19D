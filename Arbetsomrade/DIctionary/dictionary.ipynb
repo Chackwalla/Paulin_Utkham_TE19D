{
 "metadata": {
  "language_info": {
   "codemirror_mode": {
    "name": "ipython",
    "version": 3
   },
   "file_extension": ".py",
   "mimetype": "text/x-python",
   "name": "python",
   "nbconvert_exporter": "python",
   "pygments_lexer": "ipython3",
   "version": "3.8.5-final"
  },
  "orig_nbformat": 2,
  "kernelspec": {
   "name": "python3",
   "display_name": "Python 3.8.5 64-bit",
   "metadata": {
    "interpreter": {
     "hash": "2db524e06e9f5f4ffedc911c917cb75e12dbc923643829bf417064a77eb14d37"
    }
   }
  }
 },
 "nbformat": 4,
 "nbformat_minor": 2,
 "cells": [
  {
   "cell_type": "code",
   "execution_count": 11,
   "metadata": {},
   "outputs": [
    {
     "output_type": "stream",
     "name": "stdout",
     "text": [
      "Orden vi ska lära oss är: \ntilldela, datastruktur, sträng, dictionary, \n\nGlosa  \t\t  Betydelse\ntilldela  \t  ge ett värde till en variabel\ndatastruktur  \t  struktuering av data\nsträng  \t  sekvens av tecken\ndictionary  \t  datastruktur för att spara data i key:value par\n"
     ]
    }
   ],
   "source": [
    "# syntax med måsvingar{}\n",
    "glosor = {\n",
    "    \"tilldela\":\"ge ett värde till en variabel\",\n",
    "    \"datastruktur\":\"struktuering av data\",\n",
    "    \"sträng\": \"sekvens av tecken\"\n",
    "}\n",
    "# lägg till elemt i dictionary\n",
    "glosor[\"dictionary\"] = \"datastruktur för att spara data i key:value par\"\n",
    "\n",
    "#print(glosor)\n",
    "#print(glosor[\"tilldela\"])\n",
    "\n",
    "print(\"Orden vi ska lära oss är: \")\n",
    "#itererar över nycklarna i dictionary\n",
    "for key in glosor:\n",
    "    print(key, end =\", \")\n",
    "\n",
    "print(\"\\n\\nGlosa  \\t\\t  Betydelse\")\n",
    "# itererar över nyckel, värde i dictionary\n",
    "for key, value in glosor.items():\n",
    "    print(f\"{key}  \\t  {value}\" )"
   ]
  },
  {
   "cell_type": "code",
   "execution_count": 3,
   "metadata": {},
   "outputs": [
    {
     "output_type": "stream",
     "name": "stdout",
     "text": [
      "{'namn': 'Lucian', 'ålder': 18, 'yrke': 'student', 'skola': 'NTI'}\nPersonens namn är Lucian\nhan är 18 år gammal\n"
     ]
    }
   ],
   "source": [
    " # syntax med dict()\n",
    "person = dict(\n",
    "    namn = \"Lucian\",\n",
    "    ålder = 18,\n",
    "    yrke = \"student\",\n",
    "    skola = \"NTI\"\n",
    ")\n",
    "\n",
    "print(person)\n",
    "print(f\"Personens namn är {person['namn']}\")\n",
    "print(f\"han är {person['ålder']} år gammal\")"
   ]
  },
  {
   "source": [
    "# Från häftet"
   ],
   "cell_type": "markdown",
   "metadata": {}
  },
  {
   "cell_type": "code",
   "execution_count": 28,
   "metadata": {},
   "outputs": [
    {
     "output_type": "stream",
     "name": "stdout",
     "text": [
      "{'Engelska': 100, 'Programering': 100, 'Tillempat': 100, 'Webbutväckling': 100, 'Idrotten': 100} \n\n100, 200, 300, 400, 500, \n\nSumman av alla mina kursers poäng är: 500\n"
     ]
    }
   ],
   "source": [
    "# upg 1 \n",
    "\n",
    "kurser = {\n",
    "    \"Engelska\" : 100,\n",
    "    \"Programering\" : 100,\n",
    "    \"Tillempat\" : 100,\n",
    "    \"Webbutväckling\" : 100,\n",
    "    \"Idrotten\" : 100,\n",
    "}\n",
    "\n",
    "print(Kurser, \"\\n\")\n",
    "\n",
    "summa = 0\n",
    "\n",
    "for key, value in kurser.items():\n",
    "    summa += value\n",
    "    print(summa, end=\", \")\n",
    "\n",
    "print(f\"\\n\\nSumman av alla mina kursers poäng är: {summa}\")"
   ]
  },
  {
   "source": [
    "# upg 2\n",
    "import random as rnd\n",
    "\n",
    "Frekvens = {\n",
    "    \"1:\":0,\n",
    "    \"2:\":0,\n",
    "    \"3:\":0,\n",
    "    \"4:\":0,\n",
    "    \"5:\":0,\n",
    "    \"6:\":0\n",
    "}\n",
    "\n",
    "for i in range(100000):\n",
    "    tärning = (rnd.randint(1,6))\n",
    "    if tärning == 1:\n",
    "        Frekvens[\"1:\"] += 1\n",
    "    elif tärning == 2:\n",
    "        Frekvens[\"2:\"] += 1\n",
    "    elif tärning == 3:\n",
    "        Frekvens[\"3:\"] += 1\n",
    "    elif tärning == 4:\n",
    "        Frekvens[\"4:\"] += 1\n",
    "    elif tärning == 5:\n",
    "        Frekvens[\"5:\"] += 5\n",
    "    elif tärning == 6:\n",
    "        Frekvens[\"6:\"] += 1\n",
    "\n",
    "print(\"Frekvenstabell\")\n",
    "for key, value in Frekvens.items():\n",
    "    print(f\"{key} {value}\")"
   ],
   "cell_type": "code",
   "metadata": {},
   "execution_count": 34,
   "outputs": [
    {
     "output_type": "stream",
     "name": "stdout",
     "text": [
      "Frekvenstabell\n1: 16398\n2: 16744\n3: 16711\n4: 16709\n5: 83785\n6: 16681\n"
     ]
    }
   ]
  },
  {
   "cell_type": "code",
   "execution_count": null,
   "metadata": {},
   "outputs": [],
   "source": [
    "# upg 3"
   ]
  }
 ]
}
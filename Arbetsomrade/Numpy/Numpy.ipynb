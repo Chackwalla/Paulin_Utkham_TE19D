{
 "metadata": {
  "language_info": {
   "codemirror_mode": {
    "name": "ipython",
    "version": 3
   },
   "file_extension": ".py",
   "mimetype": "text/x-python",
   "name": "python",
   "nbconvert_exporter": "python",
   "pygments_lexer": "ipython3",
   "version": "3.8.3-final"
  },
  "orig_nbformat": 2,
  "kernelspec": {
   "name": "python3",
   "display_name": "Python 3",
   "language": "python"
  }
 },
 "nbformat": 4,
 "nbformat_minor": 2,
 "cells": [
  {
   "source": [
    "# Numpy\n",
    "\n",
    "Numerisk python\n",
    "- Arrays (fält)\n",
    "- Lik listor \n",
    "- Matematiska operationer på Arrays\n",
    "- Modelerande vektorer och matriser"
   ],
   "cell_type": "markdown",
   "metadata": {}
  },
  {
   "cell_type": "code",
   "execution_count": 1,
   "metadata": {},
   "outputs": [
    {
     "output_type": "stream",
     "name": "stdout",
     "text": [
      "Array: [1 2 3 4]\nLista: [1, 2, 3, 4]\n3\n[2 4 6 8]\n[1, 2, 3, 4, 1, 2, 3, 4]\n[ 1  4  9 16]\n"
     ]
    }
   ],
   "source": [
    "import numpy as np\n",
    "\n",
    "array1 = np.array([1,2,3,4])\n",
    "\n",
    "lista1 = [1,2,3,4]\n",
    "\n",
    "print(f\"Array: {array1}\")\n",
    "print(f\"Lista: {lista1}\")\n",
    "\n",
    "# Indexera arrays, fungerar på samma set som att indexera listor []\n",
    "print(array1[2])\n",
    "\n",
    "# Multiplicera alla tal med 2\n",
    "array2 = array1*2\n",
    "print(array2)\n",
    "\n",
    "lista2 = lista1*2\n",
    "print(lista2)\n",
    "\n",
    "kvadrater = array1**2\n",
    "print(kvadrater)\n"
   ]
  },
  {
   "source": [
    "## Användbara numpy+funktioner\n",
    "- zeros\n",
    "- ones \n",
    "- arange\n",
    "- linspace\n",
    "- matematiska fun ktioner och konstruktioner: pi, sqrt"
   ],
   "cell_type": "markdown",
   "metadata": {}
  },
  {
   "cell_type": "code",
   "execution_count": 15,
   "metadata": {},
   "outputs": [
    {
     "output_type": "stream",
     "name": "stdout",
     "text": [
      "[0 1 2 3 4 5 6 7 8 9]\n[0.         1.         1.41421356 1.73205081 2.         2.23606798\n 2.44948974 2.64575131 2.82842712 3.        ]\n[0. 0. 0. 0. 0. 0.]\n[1. 1. 1. 1. 1. 1.]\n"
     ]
    }
   ],
   "source": [
    "import numpy as np\n",
    "import math\n",
    "\n",
    "# arange\n",
    "tal = np.arange(10)\n",
    "print(tal)\n",
    "print(np.sqrt(tal))\n",
    "\n",
    "nollor = np.zeros(6)\n",
    "print(nollor)\n",
    "\n",
    "ettor = np.ones(6)\n",
    "print(ettor)\n",
    "\n"
   ]
  },
  {
   "source": [
    "### Simulera tärningskast"
   ],
   "cell_type": "markdown",
   "metadata": {}
  },
  {
   "cell_type": "code",
   "execution_count": 5,
   "metadata": {},
   "outputs": [
    {
     "output_type": "stream",
     "name": "stdout",
     "text": [
      "[0 0 0 0 0 0]\nTärningskasy: [1588 1703 1685 1728 1672 1624]\nSnnorlikhet: [0.1588 0.1703 0.1685 0.1728 0.1672 0.1624]\n"
     ]
    }
   ],
   "source": [
    "import numpy as np \n",
    "import random as rnd\n",
    "\n",
    "# arrays med nollor för att parealloikera minne\n",
    "utfall = np.zeros(6, dtype=int)\n",
    "print(utfall)\n",
    "\n",
    "antal_kast = 10000\n",
    "for i in range(antal_kast):\n",
    "    kast = rnd.randint(1,6)\n",
    "    utfall[kast-1] += 1\n",
    "\n",
    "print(f\"Tärningskasy: {utfall}\")\n",
    "print(f\"Snnorlikhet: {utfall/antal_kast}\")\n",
    "\n"
   ]
  },
  {
   "cell_type": "code",
   "execution_count": null,
   "metadata": {},
   "outputs": [],
   "source": []
  }
 ]
}
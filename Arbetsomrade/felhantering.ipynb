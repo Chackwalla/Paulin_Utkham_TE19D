{
 "metadata": {
  "language_info": {
   "codemirror_mode": {
    "name": "ipython",
    "version": 3
   },
   "file_extension": ".py",
   "mimetype": "text/x-python",
   "name": "python",
   "nbconvert_exporter": "python",
   "pygments_lexer": "ipython3",
   "version": "3.8.3-final"
  },
  "orig_nbformat": 2,
  "kernelspec": {
   "name": "python3",
   "display_name": "Python 3",
   "language": "python"
  }
 },
 "nbformat": 4,
 "nbformat_minor": 2,
 "cells": [
  {
   "cell_type": "code",
   "execution_count": 4,
   "metadata": {},
   "outputs": [
    {
     "output_type": "stream",
     "name": "stdout",
     "text": [
      "1.0\n"
     ]
    }
   ],
   "source": [
    "# 1\n",
    "import numpy as np           # Felet var impor\n",
    "\n",
    "def distance(p1, p2):\n",
    "    return np.sqrt(p1+p2)    # Felstavat reurn\n",
    "print(distance(0.5,0.5))     # Felet var at man inte skulle använda []"
   ]
  },
  {
   "cell_type": "code",
   "execution_count": 48,
   "metadata": {},
   "outputs": [
    {
     "output_type": "stream",
     "name": "stdout",
     "text": [
      "100 är inte fyrsifferigt\n231 är inte fyrsifferigt\n10000 är inte fyrsifferigt\n10001 är inte fyrsifferigt\n-1000 är fyrsifferigt\n102313 är inte fyrsifferigt\n"
     ]
    }
   ],
   "source": [
    "# 2\n",
    "import math\n",
    "\n",
    "def ar_fyrsirigt(tal):\n",
    "    if -10 < tal//1000 < 10 and tal//1000 != 0 :  # Måste se till att talet inte får bli 0 och håller sig mellan -10 och 10\n",
    "        return True\n",
    "    else:\n",
    "        return False\n",
    "\n",
    "# testprogram\n",
    "testtal = [100, 231, 10000, 10001, -1000, 102313]\n",
    "\n",
    "for t in testtal:\n",
    "    if ar_fyrsirigt(t):\n",
    "        print(f\"{t} är fyrsifferigt\")\n",
    "    else:\n",
    "        print(f\"{t} är inte fyrsifferigt\")"
   ]
  },
  {
   "cell_type": "code",
   "execution_count": 58,
   "metadata": {},
   "outputs": [
    {
     "output_type": "stream",
     "name": "stdout",
     "text": [
      "One time tickets for 5 many times would cost you 200 kr\n"
     ]
    }
   ],
   "source": [
    "# 3\n",
    "while True:\n",
    "    try:\n",
    "        # Ask how many time do one wish to ride\n",
    "        ride = int(input(\"How many times do you wish to ride?\"))\n",
    "\n",
    "        # How much would that cost in one time ticket and monthly ticket\n",
    "        monthly = 300\n",
    "        oneTime = 40\n",
    "        assert ride >= 0, \"Talet måste vara större än 0\"\n",
    "        break\n",
    "\n",
    "    except AssertionError as msg:\n",
    "        print(msg)\n",
    "\n",
    "    except:\n",
    "        print(\"Antalet måste vara ett heltal, inga bokstäver, och inga decimaler.\")\n",
    "\n",
    "\n",
    "oneTimeFee = ride*oneTime\n",
    "\n",
    "print(f\"One time tickets for {ride} many times would cost you {oneTimeFee} kr\")\n",
    "\n",
    "# Is it worth to buy the montly\n",
    "if oneTimeFee >= monthly:\n",
    "    print(f\"It is equaly or more expencive to buy one time tickets compared to the monthly thicket so i'd suggest you buy the montly ticket for {monthly} kr\")"
   ]
  },
  {
   "cell_type": "code",
   "execution_count": null,
   "metadata": {},
   "outputs": [],
   "source": []
  }
 ]
}
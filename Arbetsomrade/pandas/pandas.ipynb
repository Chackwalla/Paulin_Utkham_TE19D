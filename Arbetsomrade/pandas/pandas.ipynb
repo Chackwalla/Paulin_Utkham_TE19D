{
 "metadata": {
  "language_info": {
   "codemirror_mode": {
    "name": "ipython",
    "version": 3
   },
   "file_extension": ".py",
   "mimetype": "text/x-python",
   "name": "python",
   "nbconvert_exporter": "python",
   "pygments_lexer": "ipython3",
   "version": "3.8.5-final"
  },
  "orig_nbformat": 2,
  "kernelspec": {
   "name": "python385jvsc74a57bd02db524e06e9f5f4ffedc911c917cb75e12dbc923643829bf417064a77eb14d37",
   "display_name": "Python 3.8.5 64-bit"
  },
  "metadata": {
   "interpreter": {
    "hash": "2db524e06e9f5f4ffedc911c917cb75e12dbc923643829bf417064a77eb14d37"
   }
  }
 },
 "nbformat": 4,
 "nbformat_minor": 2,
 "cells": [
  {
   "cell_type": "code",
   "execution_count": 10,
   "metadata": {},
   "outputs": [
    {
     "output_type": "error",
     "ename": "SyntaxError",
     "evalue": "cannot assign to function call (<ipython-input-10-9f5b89d704c0>, line 7)",
     "traceback": [
      "\u001b[1;36m  File \u001b[1;32m\"<ipython-input-10-9f5b89d704c0>\"\u001b[1;36m, line \u001b[1;32m7\u001b[0m\n\u001b[1;33m    df(\"Total\") = df.sum(axis1)\u001b[0m\n\u001b[1;37m    ^\u001b[0m\n\u001b[1;31mSyntaxError\u001b[0m\u001b[1;31m:\u001b[0m cannot assign to function call\n"
     ]
    }
   ],
   "source": [
    "import pandas as pd \n",
    "import numpy as np \n",
    "import matplotlib.pyplot as plt \n",
    "\n",
    "df = pd.read_csv('Matteprov.csv')\n",
    "df = df.fillna(0)\n",
    "df(\"Total\") = df.sum(axis1)\n",
    "df"
   ]
  },
  {
   "cell_type": "code",
   "execution_count": 2,
   "metadata": {},
   "outputs": [
    {
     "output_type": "execute_result",
     "data": {
      "text/plain": [
       "          sysselsättning     ålder      kön    2019\n",
       "0      förvärvsarbetande  16-19 år      män   58826\n",
       "1      förvärvsarbetande  16-19 år  kvinnor   72847\n",
       "2      förvärvsarbetande  20-24 år      män  192696\n",
       "3      förvärvsarbetande  20-24 år  kvinnor  174074\n",
       "4      förvärvsarbetande  25-29 år      män  293352\n",
       "5      förvärvsarbetande  25-29 år  kvinnor  268587\n",
       "6      förvärvsarbetande  30-34 år      män  303019\n",
       "7      förvärvsarbetande  30-34 år  kvinnor  271975\n",
       "8      förvärvsarbetande  35-39 år      män  280522\n",
       "9      förvärvsarbetande  35-39 år  kvinnor  255391\n",
       "10     förvärvsarbetande  40-44 år      män  275085\n",
       "11     förvärvsarbetande  40-44 år  kvinnor  260093\n",
       "12  ej förvärvsarbetande  16-19 år      män  176860\n",
       "13  ej förvärvsarbetande  16-19 år  kvinnor  143432\n",
       "14  ej förvärvsarbetande  20-24 år      män  117928\n",
       "15  ej förvärvsarbetande  20-24 år  kvinnor  103001\n",
       "16  ej förvärvsarbetande  25-29 år      män   86633\n",
       "17  ej förvärvsarbetande  25-29 år  kvinnor   91124\n",
       "18  ej förvärvsarbetande  30-34 år      män   64162\n",
       "19  ej förvärvsarbetande  30-34 år  kvinnor   76735\n",
       "20  ej förvärvsarbetande  35-39 år      män   53373\n",
       "21  ej förvärvsarbetande  35-39 år  kvinnor   61312\n",
       "22  ej förvärvsarbetande  40-44 år      män   46857\n",
       "23  ej förvärvsarbetande  40-44 år  kvinnor   49228"
      ],
      "text/html": "<div>\n<style scoped>\n    .dataframe tbody tr th:only-of-type {\n        vertical-align: middle;\n    }\n\n    .dataframe tbody tr th {\n        vertical-align: top;\n    }\n\n    .dataframe thead th {\n        text-align: right;\n    }\n</style>\n<table border=\"1\" class=\"dataframe\">\n  <thead>\n    <tr style=\"text-align: right;\">\n      <th></th>\n      <th>sysselsättning</th>\n      <th>ålder</th>\n      <th>kön</th>\n      <th>2019</th>\n    </tr>\n  </thead>\n  <tbody>\n    <tr>\n      <th>0</th>\n      <td>förvärvsarbetande</td>\n      <td>16-19 år</td>\n      <td>män</td>\n      <td>58826</td>\n    </tr>\n    <tr>\n      <th>1</th>\n      <td>förvärvsarbetande</td>\n      <td>16-19 år</td>\n      <td>kvinnor</td>\n      <td>72847</td>\n    </tr>\n    <tr>\n      <th>2</th>\n      <td>förvärvsarbetande</td>\n      <td>20-24 år</td>\n      <td>män</td>\n      <td>192696</td>\n    </tr>\n    <tr>\n      <th>3</th>\n      <td>förvärvsarbetande</td>\n      <td>20-24 år</td>\n      <td>kvinnor</td>\n      <td>174074</td>\n    </tr>\n    <tr>\n      <th>4</th>\n      <td>förvärvsarbetande</td>\n      <td>25-29 år</td>\n      <td>män</td>\n      <td>293352</td>\n    </tr>\n    <tr>\n      <th>5</th>\n      <td>förvärvsarbetande</td>\n      <td>25-29 år</td>\n      <td>kvinnor</td>\n      <td>268587</td>\n    </tr>\n    <tr>\n      <th>6</th>\n      <td>förvärvsarbetande</td>\n      <td>30-34 år</td>\n      <td>män</td>\n      <td>303019</td>\n    </tr>\n    <tr>\n      <th>7</th>\n      <td>förvärvsarbetande</td>\n      <td>30-34 år</td>\n      <td>kvinnor</td>\n      <td>271975</td>\n    </tr>\n    <tr>\n      <th>8</th>\n      <td>förvärvsarbetande</td>\n      <td>35-39 år</td>\n      <td>män</td>\n      <td>280522</td>\n    </tr>\n    <tr>\n      <th>9</th>\n      <td>förvärvsarbetande</td>\n      <td>35-39 år</td>\n      <td>kvinnor</td>\n      <td>255391</td>\n    </tr>\n    <tr>\n      <th>10</th>\n      <td>förvärvsarbetande</td>\n      <td>40-44 år</td>\n      <td>män</td>\n      <td>275085</td>\n    </tr>\n    <tr>\n      <th>11</th>\n      <td>förvärvsarbetande</td>\n      <td>40-44 år</td>\n      <td>kvinnor</td>\n      <td>260093</td>\n    </tr>\n    <tr>\n      <th>12</th>\n      <td>ej förvärvsarbetande</td>\n      <td>16-19 år</td>\n      <td>män</td>\n      <td>176860</td>\n    </tr>\n    <tr>\n      <th>13</th>\n      <td>ej förvärvsarbetande</td>\n      <td>16-19 år</td>\n      <td>kvinnor</td>\n      <td>143432</td>\n    </tr>\n    <tr>\n      <th>14</th>\n      <td>ej förvärvsarbetande</td>\n      <td>20-24 år</td>\n      <td>män</td>\n      <td>117928</td>\n    </tr>\n    <tr>\n      <th>15</th>\n      <td>ej förvärvsarbetande</td>\n      <td>20-24 år</td>\n      <td>kvinnor</td>\n      <td>103001</td>\n    </tr>\n    <tr>\n      <th>16</th>\n      <td>ej förvärvsarbetande</td>\n      <td>25-29 år</td>\n      <td>män</td>\n      <td>86633</td>\n    </tr>\n    <tr>\n      <th>17</th>\n      <td>ej förvärvsarbetande</td>\n      <td>25-29 år</td>\n      <td>kvinnor</td>\n      <td>91124</td>\n    </tr>\n    <tr>\n      <th>18</th>\n      <td>ej förvärvsarbetande</td>\n      <td>30-34 år</td>\n      <td>män</td>\n      <td>64162</td>\n    </tr>\n    <tr>\n      <th>19</th>\n      <td>ej förvärvsarbetande</td>\n      <td>30-34 år</td>\n      <td>kvinnor</td>\n      <td>76735</td>\n    </tr>\n    <tr>\n      <th>20</th>\n      <td>ej förvärvsarbetande</td>\n      <td>35-39 år</td>\n      <td>män</td>\n      <td>53373</td>\n    </tr>\n    <tr>\n      <th>21</th>\n      <td>ej förvärvsarbetande</td>\n      <td>35-39 år</td>\n      <td>kvinnor</td>\n      <td>61312</td>\n    </tr>\n    <tr>\n      <th>22</th>\n      <td>ej förvärvsarbetande</td>\n      <td>40-44 år</td>\n      <td>män</td>\n      <td>46857</td>\n    </tr>\n    <tr>\n      <th>23</th>\n      <td>ej förvärvsarbetande</td>\n      <td>40-44 år</td>\n      <td>kvinnor</td>\n      <td>49228</td>\n    </tr>\n  </tbody>\n</table>\n</div>"
     },
     "metadata": {},
     "execution_count": 2
    }
   ],
   "source": [
    "# UPG 1\n",
    "\n",
    "import pandas as pd \n",
    "import numpy as np \n",
    "import matplotlib.pyplot as plt\n",
    "\n",
    "df = pd.read_csv(\"sysselsattning.csv\", encoding=\"ISO-8859-1\", header=1)\n",
    "df \n",
    "\n"
   ]
  },
  {
   "cell_type": "code",
   "execution_count": null,
   "metadata": {},
   "outputs": [],
   "source": []
  }
 ]
}